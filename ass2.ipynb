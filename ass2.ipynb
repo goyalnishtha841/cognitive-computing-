{
 "cells": [
  {
   "cell_type": "code",
   "execution_count": 1,
   "metadata": {},
   "outputs": [
    {
     "name": "stdout",
     "output_type": "stream",
     "text": [
      "[10, 20, 30, 40, 50, 60, 70, 80, 200, 300]\n",
      "[20, 40, 50, 60, 70, 80, 200, 300]\n",
      "[20, 40, 50, 60, 70, 80, 200, 300]\n",
      "[300, 200, 80, 70, 60, 50, 40, 20]\n"
     ]
    }
   ],
   "source": [
    "L=[10,20,30,40,50,60,70,80]\n",
    "L.append(200)\n",
    "L.append(300)\n",
    "print(L)\n",
    "L.remove(10)\n",
    "L.remove(30)\n",
    "print(L)\n",
    "L.sort()\n",
    "print(L)\n",
    "L.sort(reverse=True)\n",
    "print(L)"
   ]
  },
  {
   "cell_type": "code",
   "execution_count": 2,
   "metadata": {},
   "outputs": [
    {
     "name": "stdout",
     "output_type": "stream",
     "text": [
      "{5: 92}\n",
      "45 2\n",
      "[45, 58, 92, 89, 45.4, 76, 89.5, 45]\n",
      "2\n"
     ]
    }
   ],
   "source": [
    "marks=(45,89.5,76,45.4,89,92,58,45)\n",
    "high=max(marks)\n",
    "highIdx=marks.index(high)\n",
    "print({highIdx:high})\n",
    "low=min(marks)\n",
    "cnt=marks.count(low)\n",
    "print(low,cnt)\n",
    "marks_rev=marks[::-1]\n",
    "print(list(marks_rev))\n",
    "\n",
    "flag=0\n",
    "for mark in marks:\n",
    "  if(mark==76):\n",
    "    print(marks.index(mark))\n",
    "    flag=1;\n",
    "    break\n",
    "if(flag==0):\n",
    "  print('not found')\n"
   ]
  },
  {
   "cell_type": "code",
   "execution_count": 3,
   "metadata": {},
   "outputs": [
    {
     "name": "stdout",
     "output_type": "stream",
     "text": [
      "List: [242, 453, 752, 793, 870, 198, 831, 326, 670, 512, 405, 356, 272, 306, 704, 719, 233, 777, 346, 680, 724, 874, 515, 283, 632, 650, 255, 281, 224, 539, 615, 690, 716, 715, 222, 254, 646, 514, 368, 884, 792, 159, 597, 621, 866, 582, 722, 829, 507, 185, 578, 106, 162, 836, 602, 410, 760, 581, 844, 134, 292, 329, 321, 849, 522, 495, 192, 727, 718, 822, 458, 823, 834, 655, 527, 135, 327, 741, 334, 252, 240, 449, 586, 150, 134, 319, 763, 314, 466, 168, 338, 247, 651, 242, 656, 124, 260, 789, 265, 820]\n",
      "Odd numbers: [453, 793, 831, 405, 719, 233, 777, 515, 283, 255, 281, 539, 615, 715, 159, 597, 621, 829, 507, 185, 581, 329, 321, 849, 495, 727, 823, 655, 527, 135, 327, 741, 449, 319, 763, 247, 651, 789, 265] \n",
      "Number of odd numbers: 39\n",
      "Even numbers: [242, 752, 870, 198, 326, 670, 512, 356, 272, 306, 704, 346, 680, 724, 874, 632, 650, 224, 690, 716, 222, 254, 646, 514, 368, 884, 792, 866, 582, 722, 578, 106, 162, 836, 602, 410, 760, 844, 134, 292, 522, 192, 718, 822, 458, 834, 334, 252, 240, 586, 150, 134, 314, 466, 168, 338, 242, 656, 124, 260, 820] \n",
      "Number of even numbers: 61\n",
      "Prime numbers: [719, 233, 283, 281, 829, 727, 823, 449] \n",
      "Number of prime numbers: 8\n"
     ]
    }
   ],
   "source": [
    "import random\n",
    "rnd = []\n",
    "for i in range(0,100):\n",
    "    num = random.randint(100, 900)\n",
    "    rnd.append(num)\n",
    "print(\"List:\",rnd)\n",
    "odd = []\n",
    "even = []\n",
    "prime = []\n",
    "for j in rnd:\n",
    "    if j % 2 == 0:\n",
    "        even.append(j)\n",
    "    else:\n",
    "        odd.append(j)\n",
    "for k in rnd:\n",
    "    if k > 1:\n",
    "        pr = True\n",
    "        for l in range(2, k):\n",
    "            if k%l == 0:\n",
    "                pr = False\n",
    "                break\n",
    "        if pr:\n",
    "            prime.append(k)\n",
    "print(\"Odd numbers:\",odd,\"\\nNumber of odd numbers:\",len(odd))\n",
    "print(\"Even numbers:\",even,\"\\nNumber of even numbers:\",len(even))\n",
    "print(\"Prime numbers:\",prime,\"\\nNumber of prime numbers:\",len(prime))"
   ]
  },
  {
   "cell_type": "code",
   "execution_count": null,
   "metadata": {},
   "outputs": [
    {
     "name": "stdout",
     "output_type": "stream",
     "text": [
      "unique score achived by both teams {34, 45, 78, 23, 56, 90}\n",
      "\n",
      " common score  {90, 78}\n",
      "score excluive to each team {34, 45, 23, 56}\n",
      "Is A is a subset of B? False\n",
      "Is B is a subset of A? False\n"
     ]
    }
   ],
   "source": [
    "A={34,56,78,90}\n",
    "B={78,45,90,23}\n",
    "\n",
    "\n",
    "union=A.union(B)\n",
    "print(\"unique score achived by both teams\",union)\n",
    "\n",
    "\n",
    "intersection=A.intersection(B)\n",
    "print(\"\\n common score \",intersection)\n",
    "\n",
    "\n",
    "symm_dif=A.symmetric_difference(B)\n",
    "print(\"score excluive to each team\",symm_dif)\n",
    "\n",
    "\n",
    "print(\"Is A is a subset of B?\",A.issubset(B))\n",
    "print(\"Is B is a subset of A?\",B.issuperset(A))\n",
    "\n",
    "\n",
    "x=int(input(\"enter score to remove from set A:\"))\n",
    "if x in A:\n",
    "    A.remove(x)\n",
    "    print(\"score\",x,\"removed from set A\")\n",
    "    print(\"A after removing the set score is\",A)\n",
    "else :\n",
    "    print(\"score \",x,\"is not present in set A.\")"
   ]
  },
  {
   "cell_type": "code",
   "execution_count": 1,
   "metadata": {},
   "outputs": [
    {
     "name": "stdout",
     "output_type": "stream",
     "text": [
      "dictionary after desired changes is: {'name': 'emrata', 'population': 8000, 'location': 'New York'}\n"
     ]
    }
   ],
   "source": [
    "data = {\"name\":'emrata',\"city\": \"New York\",\"population\": 8000}\n",
    "if \"city\" in data.keys():\n",
    "    a = data.pop(\"city\")\n",
    "    data[\"location\"] = a\n",
    "print(\"dictionary after desired changes is:\",data)\n",
    "     "
   ]
  }
 ],
 "metadata": {
  "kernelspec": {
   "display_name": "Python 3",
   "language": "python",
   "name": "python3"
  },
  "language_info": {
   "codemirror_mode": {
    "name": "ipython",
    "version": 3
   },
   "file_extension": ".py",
   "mimetype": "text/x-python",
   "name": "python",
   "nbconvert_exporter": "python",
   "pygments_lexer": "ipython3",
   "version": "3.13.1"
  }
 },
 "nbformat": 4,
 "nbformat_minor": 2
}
