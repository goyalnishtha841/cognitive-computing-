{
  "cells": [
    {
      "cell_type": "code",
      "execution_count": 1,
      "metadata": {
        "colab": {
          "base_uri": "https://localhost:8080/"
        },
        "id": "K1TujrgTEWTd",
        "outputId": "9ba87ce4-7eae-4a69-af1e-e11dfde57de3"
      },
      "outputs": [
        {
          "name": "stdout",
          "output_type": "stream",
          "text": [
            "array is [4 9 2 6 5]\n",
            "array after adding 2 [ 6 11  4  8  7]\n",
            "array after multiplying 2 [ 8 18  4 12 10]\n",
            "array after dividing 2 [2.  4.5 1.  3.  2.5]\n"
          ]
        }
      ],
      "source": [
        "import numpy as np\n",
        "arr=np.array([4,9,2,6,5])\n",
        "print(\"array is\",arr)\n",
        "\n",
        "#a\n",
        "arr_added=arr+2\n",
        "print(\"array after adding 2\",arr_added)\n",
        "\n",
        "#b\n",
        "arr_multiplied=arr*2\n",
        "print(\"array after multiplying 2\",arr_multiplied)\n",
        "\n",
        "#c\n",
        "arr_divided=arr/2\n",
        "print(\"array after dividing 2\",arr_divided)"
      ]
    },
    {
      "cell_type": "code",
      "execution_count": 9,
      "metadata": {
        "colab": {
          "base_uri": "https://localhost:8080/"
        },
        "id": "zrETSTOEE88s",
        "outputId": "55deb66e-f08f-42ac-f2fb-051df344bfaa"
      },
      "outputs": [
        {
          "name": "stdout",
          "output_type": "stream",
          "text": [
            "[6 5 4 3 2 1]\n",
            "most frequent value 1\n",
            "indices of most frequent value [0 5 7 8 9]\n",
            "most frequent value 1\n",
            "indices of most frequent value [0 1 2]\n"
          ]
        }
      ],
      "source": [
        "import numpy as np\n",
        "arr=np.array([1,2,3,4,5,6])\n",
        "arr_reversed=arr[::-1]\n",
        "print(arr_reversed)\n",
        "\n",
        "#b\n",
        "#i\n",
        "x=np.array([1,2,3,4,5,1,2,1,1,1])\n",
        "most_frq=np.bincount(x).argmax()\n",
        "print(\"most frequent value\",most_frq)\n",
        "indices=np.where(x==most_frq)[0]\n",
        "print(\"indices of most frequent value\",indices)\n",
        "#ii\n",
        "x=np.array([1,1,1,2,3,4,2,4,3,3])\n",
        "most_frq_ii=np.bincount(x).argmax()\n",
        "print(\"most frequent value\",most_frq_ii)\n",
        "indices_ii=np.where(x==most_frq_ii)[0]\n",
        "print(\"indices of most frequent value\",indices_ii)"
      ]
    },
    {
      "cell_type": "code",
      "execution_count": 2,
      "metadata": {
        "colab": {
          "base_uri": "https://localhost:8080/"
        },
        "id": "SbyhzWAaHELV",
        "outputId": "fe003ad4-d688-4ce4-f1a4-fa159d16ae9f"
      },
      "outputs": [
        {
          "name": "stdout",
          "output_type": "stream",
          "text": [
            "90\n",
            "10\n"
          ]
        }
      ],
      "source": [
        "\n",
        "import numpy as np\n",
        "arr=np.array([[40,90,30],[30,80,60],[10,20,90]])\n",
        "#a\n",
        "print(arr[0][1])\n",
        "\n",
        "#b\n",
        "print(arr[2][0])"
      ]
    },
    {
      "cell_type": "code",
      "execution_count": 3,
      "metadata": {
        "colab": {
          "base_uri": "https://localhost:8080/"
        },
        "id": "x7yc0ZrsIC0o",
        "outputId": "317aa014-5912-427a-a7dd-d4c9b8f7038f"
      },
      "outputs": [
        {
          "name": "stdout",
          "output_type": "stream",
          "text": [
            "original array :\n",
            " [ 10.    13.75  17.5   21.25  25.    28.75  32.5   36.25  40.    43.75\n",
            "  47.5   51.25  55.    58.75  62.5   66.25  70.    73.75  77.5   81.25\n",
            "  85.    88.75  92.5   96.25 100.  ]\n",
            "dimensions: 1\n",
            "shape: (25,)\n",
            "size: 25\n",
            "data type : float64\n",
            "bytes consumed by array: 200\n",
            "transpose of arr using reshape\n",
            " [[ 10.  ]\n",
            " [ 13.75]\n",
            " [ 17.5 ]\n",
            " [ 21.25]\n",
            " [ 25.  ]\n",
            " [ 28.75]\n",
            " [ 32.5 ]\n",
            " [ 36.25]\n",
            " [ 40.  ]\n",
            " [ 43.75]\n",
            " [ 47.5 ]\n",
            " [ 51.25]\n",
            " [ 55.  ]\n",
            " [ 58.75]\n",
            " [ 62.5 ]\n",
            " [ 66.25]\n",
            " [ 70.  ]\n",
            " [ 73.75]\n",
            " [ 77.5 ]\n",
            " [ 81.25]\n",
            " [ 85.  ]\n",
            " [ 88.75]\n",
            " [ 92.5 ]\n",
            " [ 96.25]\n",
            " [100.  ]]\n"
          ]
        }
      ],
      "source": [
        "import numpy as np\n",
        "nishtha=np.linspace(10,100,25)\n",
        "print(\"original array :\\n\",nishtha)\n",
        "print(\"dimensions:\",nishtha.ndim)\n",
        "print(\"shape:\",nishtha.shape)\n",
        "print(\"size:\",nishtha.size)\n",
        "print(\"data type :\",nishtha.dtype)\n",
        "print(\"bytes consumed by array:\",nishtha.nbytes)\n",
        "transpose_arr=nishtha.reshape(25,1)\n",
        "print(\"transpose of arr using reshape\\n\",transpose_arr)"
      ]
    },
    {
      "cell_type": "code",
      "execution_count": 4,
      "metadata": {
        "colab": {
          "base_uri": "https://localhost:8080/"
        },
        "id": "d-BbQDI3IuZb",
        "outputId": "9a9d58fe-3840-424b-cd24-2495ca66786b"
      },
      "outputs": [
        {
          "name": "stdout",
          "output_type": "stream",
          "text": [
            "43.333333333333336\n",
            "37.5\n",
            "90\n",
            "10\n",
            "[10 15 20 30 35 40 50 60 70 80 90]\n",
            "reshape:\n",
            " [[10 20 30]\n",
            " [40 50 60]\n",
            " [70 80 90]\n",
            " [15 20 35]]\n",
            "resize_array:\n",
            " [[10 20 30 40 50 60]\n",
            " [70 80 90 15 20 35]]\n"
          ]
        }
      ],
      "source": [
        "import numpy as np\n",
        "ucs420_nishtha= np.array([[10, 20, 30, 40], [50, 60, 70, 80], [90, 15, 20, 35]])\n",
        "print( np.mean(ucs420_nishtha))\n",
        "print(np.median(ucs420_nishtha))\n",
        "print(np.max(ucs420_nishtha))\n",
        "print(np.min(ucs420_nishtha))\n",
        "print(np.unique(ucs420_nishtha))\n",
        "reshape_ucs420_nishtha=ucs420_nishtha.reshape(4,3)\n",
        "print(\"reshape:\\n\",reshape_ucs420_nishtha)\n",
        "resize_ucs420_nishtha=np.resize(ucs420_nishtha,(2,6))\n",
        "print(\"resize_array:\\n\",resize_ucs420_nishtha)"
      ]
    }
  ],
  "metadata": {
    "colab": {
      "provenance": []
    },
    "kernelspec": {
      "display_name": "Python 3",
      "name": "python3"
    },
    "language_info": {
      "codemirror_mode": {
        "name": "ipython",
        "version": 3
      },
      "file_extension": ".py",
      "mimetype": "text/x-python",
      "name": "python",
      "nbconvert_exporter": "python",
      "pygments_lexer": "ipython3",
      "version": "3.13.1"
    }
  },
  "nbformat": 4,
  "nbformat_minor": 0
}
